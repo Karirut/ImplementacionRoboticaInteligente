{
 "cells": [
  {
   "cell_type": "markdown",
   "metadata": {},
   "source": [
    "Importar librerias"
   ]
  },
  {
   "cell_type": "code",
   "execution_count": 11,
   "metadata": {},
   "outputs": [],
   "source": [
    "import numpy as np\n",
    "import cv2 as cv"
   ]
  },
  {
   "cell_type": "markdown",
   "metadata": {},
   "source": [
    "Video Original (Primer Video)"
   ]
  },
  {
   "cell_type": "code",
   "execution_count": 12,
   "metadata": {},
   "outputs": [],
   "source": [
    "cap = cv.VideoCapture(0)\n",
    "width = int(cap.get(cv.CAP_PROP_FRAME_WIDTH))\n",
    "height = int(cap.get(cv.CAP_PROP_FRAME_HEIGHT))\n",
    "writer = cv.VideoWriter('VideoN.mp4',cv.VideoWriter_fourcc(*'mp4v'),20,(width,height))\n",
    "\n",
    "frame_listN = []\n",
    "\n",
    "while True:\n",
    "    ret, frame = cap.read()\n",
    "    if cv.waitKey(1) & 0xFF == ord('q'):\n",
    "        break\n",
    "    writer.write(frame)\n",
    "    cv.imshow('frame',frame)\n",
    "    frame_listN.append(frame)\n",
    "\n",
    "cap.release()\n",
    "writer.release()\n",
    "cv.destroyAllWindows()"
   ]
  },
  {
   "cell_type": "markdown",
   "metadata": {},
   "source": [
    "Video Reversa (Segundo Video)"
   ]
  },
  {
   "cell_type": "code",
   "execution_count": 13,
   "metadata": {},
   "outputs": [],
   "source": [
    "cap = cv.VideoCapture('VideoN.mp4')\n",
    "\n",
    "writer = cv.VideoWriter('VideoR.mp4',cv.VideoWriter_fourcc(*'mp4v'),20,(width,height))\n",
    "\n",
    "check, vid = cap.read()\n",
    "frame_list = []\n",
    "\n",
    "while (check == True):\n",
    "    check, vid = cap.read()\n",
    "    frame_list.append(vid)\n",
    "\n",
    "frame_list.pop()\n",
    "frame_list.reverse()\n",
    "\n",
    "for frame in frame_list:\n",
    "    if cv.waitKey(1) & 0xFF == ord('q'):\n",
    "        break\n",
    "    writer.write(frame)\n",
    "    cv.imshow(\"Frame\", frame)\n",
    "\n",
    "cap.release()\n",
    "writer.release()\n",
    "cv.destroyAllWindows()"
   ]
  },
  {
   "cell_type": "markdown",
   "metadata": {},
   "source": [
    "Video Completo (Tercer Video)"
   ]
  },
  {
   "cell_type": "code",
   "execution_count": 14,
   "metadata": {},
   "outputs": [],
   "source": [
    "cap2 = cv.VideoCapture('VideoN.mp4')\n",
    "\n",
    "framesJ = []\n",
    "\n",
    "writer = cv.VideoWriter('VideoJ.mp4',cv.VideoWriter_fourcc(*'mp4v'),20,(width,height))\n",
    "\n",
    "framesJ = frame_listN + frame_list\n",
    "\n",
    "for i in framesJ:\n",
    "    if cv.waitKey(1) & 0xFF == ord('q'):\n",
    "        break\n",
    "    writer.write(i)\n",
    "    cv.imshow(\"Frame\", i)\n",
    "\n",
    "cap2.release()\n",
    "cap.release()\n",
    "writer.release()\n",
    "cv.destroyAllWindows()"
   ]
  }
 ],
 "metadata": {
  "kernelspec": {
   "display_name": "Python 3",
   "language": "python",
   "name": "python3"
  },
  "language_info": {
   "codemirror_mode": {
    "name": "ipython",
    "version": 3
   },
   "file_extension": ".py",
   "mimetype": "text/x-python",
   "name": "python",
   "nbconvert_exporter": "python",
   "pygments_lexer": "ipython3",
   "version": "3.12.2"
  }
 },
 "nbformat": 4,
 "nbformat_minor": 2
}
